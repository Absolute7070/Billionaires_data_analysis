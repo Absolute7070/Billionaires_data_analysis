{
 "cells": [
  {
   "cell_type": "code",
   "execution_count": 1,
   "id": "a3659a8c-e3ee-442f-9165-2c90eb035fdd",
   "metadata": {},
   "outputs": [],
   "source": [
    "import pandas as pd \n",
    "import matplotlib.pyplot as plt \n",
    "import numpy as np \n",
    "import seaborn as sns \n",
    "sns.set()\n",
    "\n",
    "\n",
    "from sklearn.linear_model import LinearRegression"
   ]
  },
  {
   "cell_type": "markdown",
   "id": "a3225901-296c-4eee-8c9d-fd091322793c",
   "metadata": {},
   "source": [
    "# Introduction\n",
    "\n",
    "We have a data of Forbes Billionaires from  <a href= \"https://www.kaggle.com/datasets/surajjha101/forbes-billionaires-data-preprocessed\" >kaggle</a> in 2022. \n",
    "\n",
    "At the time of extracting the data from the kaggle, the latest update of the dataset was 2 months ago. \n",
    "\n",
    "\n",
    "# Research questions \n",
    "\n",
    "- Which industry has the most billionaires? \n",
    "- Which country has the most billionaires? \n",
    "- Show age distribution of the billionaires. \n",
    "- Can age and industry predict being richer using linear regression model? \n"
   ]
  },
  {
   "cell_type": "markdown",
   "id": "67e32a47-6269-4fe9-abc5-906004b5c4be",
   "metadata": {},
   "source": [
    "# Importing data "
   ]
  },
  {
   "cell_type": "code",
   "execution_count": 2,
   "id": "14e778f8-f45f-43d8-bc71-73bacfbdf6c8",
   "metadata": {},
   "outputs": [
    {
     "data": {
      "text/html": [
       "<div>\n",
       "<style scoped>\n",
       "    .dataframe tbody tr th:only-of-type {\n",
       "        vertical-align: middle;\n",
       "    }\n",
       "\n",
       "    .dataframe tbody tr th {\n",
       "        vertical-align: top;\n",
       "    }\n",
       "\n",
       "    .dataframe thead th {\n",
       "        text-align: right;\n",
       "    }\n",
       "</style>\n",
       "<table border=\"1\" class=\"dataframe\">\n",
       "  <thead>\n",
       "    <tr style=\"text-align: right;\">\n",
       "      <th></th>\n",
       "      <th>Rank</th>\n",
       "      <th>Name</th>\n",
       "      <th>Networth</th>\n",
       "      <th>Age</th>\n",
       "      <th>Country</th>\n",
       "      <th>Source</th>\n",
       "      <th>Industry</th>\n",
       "    </tr>\n",
       "  </thead>\n",
       "  <tbody>\n",
       "    <tr>\n",
       "      <th>0</th>\n",
       "      <td>1</td>\n",
       "      <td>Elon Musk</td>\n",
       "      <td>219.0</td>\n",
       "      <td>50</td>\n",
       "      <td>United States</td>\n",
       "      <td>Tesla, SpaceX</td>\n",
       "      <td>Automotive</td>\n",
       "    </tr>\n",
       "    <tr>\n",
       "      <th>1</th>\n",
       "      <td>2</td>\n",
       "      <td>Jeff Bezos</td>\n",
       "      <td>171.0</td>\n",
       "      <td>58</td>\n",
       "      <td>United States</td>\n",
       "      <td>Amazon</td>\n",
       "      <td>Technology</td>\n",
       "    </tr>\n",
       "    <tr>\n",
       "      <th>2</th>\n",
       "      <td>3</td>\n",
       "      <td>Bernard Arnault &amp; family</td>\n",
       "      <td>158.0</td>\n",
       "      <td>73</td>\n",
       "      <td>France</td>\n",
       "      <td>LVMH</td>\n",
       "      <td>Fashion &amp; Retail</td>\n",
       "    </tr>\n",
       "    <tr>\n",
       "      <th>3</th>\n",
       "      <td>4</td>\n",
       "      <td>Bill Gates</td>\n",
       "      <td>129.0</td>\n",
       "      <td>66</td>\n",
       "      <td>United States</td>\n",
       "      <td>Microsoft</td>\n",
       "      <td>Technology</td>\n",
       "    </tr>\n",
       "    <tr>\n",
       "      <th>4</th>\n",
       "      <td>5</td>\n",
       "      <td>Warren Buffett</td>\n",
       "      <td>118.0</td>\n",
       "      <td>91</td>\n",
       "      <td>United States</td>\n",
       "      <td>Berkshire Hathaway</td>\n",
       "      <td>Finance &amp; Investments</td>\n",
       "    </tr>\n",
       "    <tr>\n",
       "      <th>...</th>\n",
       "      <td>...</td>\n",
       "      <td>...</td>\n",
       "      <td>...</td>\n",
       "      <td>...</td>\n",
       "      <td>...</td>\n",
       "      <td>...</td>\n",
       "      <td>...</td>\n",
       "    </tr>\n",
       "    <tr>\n",
       "      <th>2595</th>\n",
       "      <td>2578</td>\n",
       "      <td>Jorge Gallardo Ballart</td>\n",
       "      <td>1.0</td>\n",
       "      <td>80</td>\n",
       "      <td>Spain</td>\n",
       "      <td>pharmaceuticals</td>\n",
       "      <td>Healthcare</td>\n",
       "    </tr>\n",
       "    <tr>\n",
       "      <th>2596</th>\n",
       "      <td>2578</td>\n",
       "      <td>Nari Genomal</td>\n",
       "      <td>1.0</td>\n",
       "      <td>82</td>\n",
       "      <td>Philippines</td>\n",
       "      <td>apparel</td>\n",
       "      <td>Fashion &amp; Retail</td>\n",
       "    </tr>\n",
       "    <tr>\n",
       "      <th>2597</th>\n",
       "      <td>2578</td>\n",
       "      <td>Ramesh Genomal</td>\n",
       "      <td>1.0</td>\n",
       "      <td>71</td>\n",
       "      <td>Philippines</td>\n",
       "      <td>apparel</td>\n",
       "      <td>Fashion &amp; Retail</td>\n",
       "    </tr>\n",
       "    <tr>\n",
       "      <th>2598</th>\n",
       "      <td>2578</td>\n",
       "      <td>Sunder Genomal</td>\n",
       "      <td>1.0</td>\n",
       "      <td>68</td>\n",
       "      <td>Philippines</td>\n",
       "      <td>garments</td>\n",
       "      <td>Fashion &amp; Retail</td>\n",
       "    </tr>\n",
       "    <tr>\n",
       "      <th>2599</th>\n",
       "      <td>2578</td>\n",
       "      <td>Horst-Otto Gerberding</td>\n",
       "      <td>1.0</td>\n",
       "      <td>69</td>\n",
       "      <td>Germany</td>\n",
       "      <td>flavors and fragrances</td>\n",
       "      <td>Food &amp; Beverage</td>\n",
       "    </tr>\n",
       "  </tbody>\n",
       "</table>\n",
       "<p>2600 rows × 7 columns</p>\n",
       "</div>"
      ],
      "text/plain": [
       "      Rank                        Name  Networth  Age        Country  \\\n",
       "0         1                 Elon Musk      219.0   50  United States   \n",
       "1         2                Jeff Bezos      171.0   58  United States   \n",
       "2         3  Bernard Arnault & family      158.0   73         France   \n",
       "3         4                Bill Gates      129.0   66  United States   \n",
       "4         5            Warren Buffett      118.0   91  United States   \n",
       "...     ...                        ...       ...  ...            ...   \n",
       "2595   2578    Jorge Gallardo Ballart        1.0   80          Spain   \n",
       "2596   2578              Nari Genomal        1.0   82    Philippines   \n",
       "2597   2578            Ramesh Genomal        1.0   71    Philippines   \n",
       "2598   2578            Sunder Genomal        1.0   68    Philippines   \n",
       "2599   2578     Horst-Otto Gerberding        1.0   69        Germany   \n",
       "\n",
       "                      Source                Industry  \n",
       "0              Tesla, SpaceX             Automotive   \n",
       "1                     Amazon             Technology   \n",
       "2                       LVMH       Fashion & Retail   \n",
       "3                  Microsoft             Technology   \n",
       "4         Berkshire Hathaway  Finance & Investments   \n",
       "...                      ...                     ...  \n",
       "2595         pharmaceuticals             Healthcare   \n",
       "2596                 apparel       Fashion & Retail   \n",
       "2597                 apparel       Fashion & Retail   \n",
       "2598                garments       Fashion & Retail   \n",
       "2599  flavors and fragrances        Food & Beverage   \n",
       "\n",
       "[2600 rows x 7 columns]"
      ]
     },
     "execution_count": 2,
     "metadata": {},
     "output_type": "execute_result"
    }
   ],
   "source": [
    "data= pd.read_csv('Forbes Billionaires.csv')\n",
    "data"
   ]
  },
  {
   "cell_type": "markdown",
   "id": "34142635-408a-4a6e-af1a-ebc56580f40f",
   "metadata": {},
   "source": [
    "# Which industry has the most billionaires?"
   ]
  },
  {
   "cell_type": "code",
   "execution_count": 48,
   "id": "8a84ebff-33f6-4056-a102-bb3688b4aa11",
   "metadata": {},
   "outputs": [
    {
     "data": {
      "text/plain": [
       "Industry\n",
       "Automotive                      69\n",
       "Construction & Engineering      43\n",
       "Energy                          93\n",
       "Fashion & Retail               246\n",
       "Finance & Investments          386\n",
       "Food & Beverage                201\n",
       "Gambling & Casinos              23\n",
       "Healthcare                     212\n",
       "Logistics                       35\n",
       "Manufacturing                  322\n",
       "Media & Entertainment           95\n",
       "Metals & Mining                 67\n",
       "Real Estate                    189\n",
       "Service                         51\n",
       "Sports                          26\n",
       "Technology                     329\n",
       "Telecom                         35\n",
       "diversified                    178\n",
       "Name: Name, dtype: int64"
      ]
     },
     "execution_count": 48,
     "metadata": {},
     "output_type": "execute_result"
    }
   ],
   "source": [
    "counts= data.groupby('Industry').count()['Name']          # counts of billionaires by industries \n",
    "counts "
   ]
  },
  {
   "cell_type": "code",
   "execution_count": 51,
   "id": "1945f808-efe5-4de9-ac6f-955858ba4905",
   "metadata": {},
   "outputs": [
    {
     "data": {
      "text/plain": [
       "Text(0.5, 1.0, 'Number of billionaires by industries')"
      ]
     },
     "execution_count": 51,
     "metadata": {},
     "output_type": "execute_result"
    },
    {
     "data": {
      "image/png": "[encoded data removed]",
      "text/plain": [
       "<Figure size 720x720 with 1 Axes>"
      ]
     },
     "metadata": {},
     "output_type": "display_data"
    }
   ],
   "source": [
    "counts.plot.barh(figsize=(10,10), fontsize=15)       # horizontal bar plot  \n",
    "plt.title('Number of billionaires by industries', fontdict={'color': 'red', 'fontsize': 20})"
   ]
  },
  {
   "cell_type": "code",
   "execution_count": 26,
   "id": "a4cc9525-0f09-4664-a802-f6a09b165955",
   "metadata": {},
   "outputs": [
    {
     "data": {
      "text/plain": [
       "Industry\n",
       "Finance & Investments     386\n",
       "Technology                329\n",
       "Manufacturing             322\n",
       "Fashion & Retail          246\n",
       "Healthcare                212\n",
       "Food & Beverage           201\n",
       "Real Estate               189\n",
       "diversified               178\n",
       "Media & Entertainment      95\n",
       "Energy                     93\n",
       "Name: Name, dtype: int64"
      ]
     },
     "execution_count": 26,
     "metadata": {},
     "output_type": "execute_result"
    }
   ],
   "source": [
    "counts.sort_values(ascending=False).head(10)               # top 10 industries "
   ]
  },
  {
   "cell_type": "code",
   "execution_count": 54,
   "id": "8fa5073b-623d-47bb-b87c-56130abaec64",
   "metadata": {},
   "outputs": [],
   "source": [
    "top10_counts= pd.DataFrame(counts.sort_values(ascending=False).head(10)  ).reset_index()"
   ]
  },
  {
   "cell_type": "code",
   "execution_count": 56,
   "id": "523f8610-42e7-44dc-92d8-018de859fb7e",
   "metadata": {},
   "outputs": [],
   "source": [
    "top10_counts.index+=1"
   ]
  },
  {
   "cell_type": "code",
   "execution_count": 57,
   "id": "3c310abb-fcd9-46d9-9ea7-0756d5579e14",
   "metadata": {},
   "outputs": [
    {
     "data": {
      "text/html": [
       "<div>\n",
       "<style scoped>\n",
       "    .dataframe tbody tr th:only-of-type {\n",
       "        vertical-align: middle;\n",
       "    }\n",
       "\n",
       "    .dataframe tbody tr th {\n",
       "        vertical-align: top;\n",
       "    }\n",
       "\n",
       "    .dataframe thead th {\n",
       "        text-align: right;\n",
       "    }\n",
       "</style>\n",
       "<table border=\"1\" class=\"dataframe\">\n",
       "  <thead>\n",
       "    <tr style=\"text-align: right;\">\n",
       "      <th></th>\n",
       "      <th>Industry</th>\n",
       "      <th>Name</th>\n",
       "    </tr>\n",
       "  </thead>\n",
       "  <tbody>\n",
       "    <tr>\n",
       "      <th>1</th>\n",
       "      <td>Finance &amp; Investments</td>\n",
       "      <td>386</td>\n",
       "    </tr>\n",
       "    <tr>\n",
       "      <th>2</th>\n",
       "      <td>Technology</td>\n",
       "      <td>329</td>\n",
       "    </tr>\n",
       "    <tr>\n",
       "      <th>3</th>\n",
       "      <td>Manufacturing</td>\n",
       "      <td>322</td>\n",
       "    </tr>\n",
       "    <tr>\n",
       "      <th>4</th>\n",
       "      <td>Fashion &amp; Retail</td>\n",
       "      <td>246</td>\n",
       "    </tr>\n",
       "    <tr>\n",
       "      <th>5</th>\n",
       "      <td>Healthcare</td>\n",
       "      <td>212</td>\n",
       "    </tr>\n",
       "    <tr>\n",
       "      <th>6</th>\n",
       "      <td>Food &amp; Beverage</td>\n",
       "      <td>201</td>\n",
       "    </tr>\n",
       "    <tr>\n",
       "      <th>7</th>\n",
       "      <td>Real Estate</td>\n",
       "      <td>189</td>\n",
       "    </tr>\n",
       "    <tr>\n",
       "      <th>8</th>\n",
       "      <td>diversified</td>\n",
       "      <td>178</td>\n",
       "    </tr>\n",
       "    <tr>\n",
       "      <th>9</th>\n",
       "      <td>Media &amp; Entertainment</td>\n",
       "      <td>95</td>\n",
       "    </tr>\n",
       "    <tr>\n",
       "      <th>10</th>\n",
       "      <td>Energy</td>\n",
       "      <td>93</td>\n",
       "    </tr>\n",
       "  </tbody>\n",
       "</table>\n",
       "</div>"
      ],
      "text/plain": [
       "                  Industry  Name\n",
       "1   Finance & Investments    386\n",
       "2              Technology    329\n",
       "3           Manufacturing    322\n",
       "4        Fashion & Retail    246\n",
       "5              Healthcare    212\n",
       "6         Food & Beverage    201\n",
       "7             Real Estate    189\n",
       "8           diversified      178\n",
       "9   Media & Entertainment     95\n",
       "10                 Energy     93"
      ]
     },
     "execution_count": 57,
     "metadata": {},
     "output_type": "execute_result"
    }
   ],
   "source": [
    "top10_counts"
   ]
  },
  {
   "cell_type": "markdown",
   "id": "8e4b5cba-f837-44f3-a7e4-fecf37075c78",
   "metadata": {},
   "source": [
    "# Which country has the most billionaires?"
   ]
  },
  {
   "cell_type": "code",
   "execution_count": 31,
   "id": "168fd6d1-a51d-4c1f-b162-51f903a25af9",
   "metadata": {},
   "outputs": [],
   "source": [
    "counts= data.groupby('Country').count().iloc[:, 0]  # counts of billionaires by countries \n",
    "counts= counts.sort_values(ascending=False)         # order values in descending order "
   ]
  },
  {
   "cell_type": "code",
   "execution_count": 34,
   "id": "388eaed6-d914-4649-9ab3-da8dcf93fc08",
   "metadata": {},
   "outputs": [],
   "source": [
    "top10_counts= counts.head(10)   # top 10 countries with most billionaires "
   ]
  },
  {
   "cell_type": "code",
   "execution_count": 35,
   "id": "0e9151fe-54e5-4c79-88c6-ac04913ba8ab",
   "metadata": {},
   "outputs": [
    {
     "data": {
      "text/plain": [
       "Country\n",
       "United States    719\n",
       "China            515\n",
       "India            161\n",
       "Germany          130\n",
       "Russia            81\n",
       "Hong Kong         67\n",
       "Canada            64\n",
       "Brazil            60\n",
       "Italy             52\n",
       "Taiwan            51\n",
       "Name: Rank , dtype: int64"
      ]
     },
     "execution_count": 35,
     "metadata": {},
     "output_type": "execute_result"
    }
   ],
   "source": [
    "top10_counts"
   ]
  },
  {
   "cell_type": "code",
   "execution_count": 36,
   "id": "f3b75c34-42dd-419a-9d3e-c0daeb95b452",
   "metadata": {},
   "outputs": [
    {
     "data": {
      "text/plain": [
       "<AxesSubplot:ylabel='Country'>"
      ]
     },
     "execution_count": 36,
     "metadata": {},
     "output_type": "execute_result"
    },
    {
     "data": {
      "image/png": "[encoded data removed]",
      "text/plain": [
       "<Figure size 720x720 with 1 Axes>"
      ]
     },
     "metadata": {},
     "output_type": "display_data"
    }
   ],
   "source": [
    "top10_counts.plot.barh(figsize=(10,10))"
   ]
  },
  {
   "cell_type": "markdown",
   "id": "92c03c4a-39ae-4f7c-b061-30a57cfcdfb6",
   "metadata": {},
   "source": [
    "# Show age distribution of the billionaires."
   ]
  },
  {
   "cell_type": "code",
   "execution_count": 46,
   "id": "a842ee70-16ba-42a4-b3ee-360211b7c6f1",
   "metadata": {},
   "outputs": [
    {
     "data": {
      "text/plain": [
       "<AxesSubplot:ylabel='Frequency'>"
      ]
     },
     "execution_count": 46,
     "metadata": {},
     "output_type": "execute_result"
    },
    {
     "data": {
      "image/png": "[encoded data removed]",
      "text/plain": [
       "<Figure size 432x288 with 1 Axes>"
      ]
     },
     "metadata": {},
     "output_type": "display_data"
    }
   ],
   "source": [
    "data['Age'].plot.hist()  # counts of billionaires by age"
   ]
  },
  {
   "cell_type": "code",
   "execution_count": 44,
   "id": "a9b531e9-b924-498f-9c24-805e6ec59d16",
   "metadata": {},
   "outputs": [
    {
     "data": {
      "text/plain": [
       "Int64Index([ 19,  25,  26,  27,  28,  29,  30,  31,  32,  33,  34,  35,  36,\n",
       "             37,  38,  39,  40,  41,  42,  43,  44,  45,  46,  47,  48,  49,\n",
       "             50,  51,  52,  53,  54,  55,  56,  57,  58,  59,  60,  61,  62,\n",
       "             63,  64,  65,  66,  67,  68,  69,  70,  71,  72,  73,  74,  75,\n",
       "             76,  77,  78,  79,  80,  81,  82,  83,  84,  85,  86,  87,  88,\n",
       "             89,  90,  91,  92,  93,  94,  95,  96,  97,  98, 100],\n",
       "           dtype='int64', name='Age')"
      ]
     },
     "execution_count": 44,
     "metadata": {},
     "output_type": "execute_result"
    }
   ],
   "source": [
    "counts.index"
   ]
  },
  {
   "cell_type": "code",
   "execution_count": null,
   "id": "37abf5fa-feb9-459d-88cf-1f1495be7872",
   "metadata": {},
   "outputs": [],
   "source": []
  }
 ],
 "metadata": {
  "kernelspec": {
   "display_name": "Python 3",
   "language": "python",
   "name": "python3"
  },
  "language_info": {
   "codemirror_mode": {
    "name": "ipython",
    "version": 3
   },
   "file_extension": ".py",
   "mimetype": "text/x-python",
   "name": "python",
   "nbconvert_exporter": "python",
   "pygments_lexer": "ipython3",
   "version": "3.8.10"
  }
 },
 "nbformat": 4,
 "nbformat_minor": 5
}
